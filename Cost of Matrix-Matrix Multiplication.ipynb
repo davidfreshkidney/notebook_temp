{
 "cells": [
  {
   "cell_type": "markdown",
   "metadata": {},
   "source": [
    "# Cost of Mat Mat multiply"
   ]
  },
  {
   "cell_type": "code",
   "execution_count": 1,
   "metadata": {
    "collapsed": true
   },
   "outputs": [],
   "source": [
    "import numpy as np\n",
    "import numpy.linalg as la\n",
    "import matplotlib.pyplot as pt\n",
    "%matplotlib inline\n",
    "from time import process_time\n",
    "\n",
    "def get_solve_time(n):\n",
    "    A = np.random.randn(n, n)\n",
    "    B = np.random.randn(n, n)\n",
    "    \n",
    "    t_start = process_time()\n",
    "    A @ B\n",
    "    t_stop = process_time()\n",
    "    \n",
    "    return t_stop-t_start"
   ]
  },
  {
   "cell_type": "code",
   "execution_count": 7,
   "metadata": {},
   "outputs": [
    {
     "name": "stdout",
     "output_type": "stream",
     "text": [
      "[  100  1000  2000  3000  4000  5000  6000  8000 10000]\n"
     ]
    }
   ],
   "source": [
    "n_values = np.array([100,1000,2000,3000,4000,5000,6000,8000,10000])\n",
    "print(n_values)"
   ]
  },
  {
   "cell_type": "code",
   "execution_count": 8,
   "metadata": {
    "collapsed": true
   },
   "outputs": [],
   "source": [
    "times = []\n",
    "for n in n_values:\n",
    "    newtime = get_solve_time(n)\n",
    "    times.append(newtime)"
   ]
  },
  {
   "cell_type": "code",
   "execution_count": 11,
   "metadata": {},
   "outputs": [
    {
     "data": {
      "image/png": "[encoded data removed]",
      "text/plain": [
       "<matplotlib.figure.Figure at 0x1124f8eb8>"
      ]
     },
     "metadata": {},
     "output_type": "display_data"
    }
   ],
   "source": [
    "pt.loglog(n_values, times)\n",
    "pt.xlabel('n')\n",
    "pt.ylabel('time')\n",
    "pt.grid()"
   ]
  },
  {
   "cell_type": "markdown",
   "metadata": {},
   "source": [
    "* Can we predict individual values?\n",
    "* What does the overall behavior look like?\n",
    "* How could we determine the \"underlying\" function?"
   ]
  },
  {
   "cell_type": "code",
   "execution_count": null,
   "metadata": {
    "collapsed": true
   },
   "outputs": [],
   "source": []
  }
 ],
 "metadata": {
  "kernelspec": {
   "display_name": "Python 3",
   "language": "python",
   "name": "python3"
  },
  "language_info": {
   "codemirror_mode": {
    "name": "ipython",
    "version": 3
   },
   "file_extension": ".py",
   "mimetype": "text/x-python",
   "name": "python",
   "nbconvert_exporter": "python",
   "pygments_lexer": "ipython3",
   "version": "3.6.3"
  }
 },
 "nbformat": 4,
 "nbformat_minor": 1
}
